{
 "cells": [
  {
   "cell_type": "code",
   "execution_count": 3,
   "id": "ea8c9913",
   "metadata": {},
   "outputs": [
    {
     "name": "stdout",
     "output_type": "stream",
     "text": [
      "Requirement already satisfied: selenium in c:\\users\\admin\\anaconda3\\lib\\site-packages (4.4.3)\n",
      "Requirement already satisfied: trio-websocket~=0.9 in c:\\users\\admin\\anaconda3\\lib\\site-packages (from selenium) (0.9.2)\n",
      "Requirement already satisfied: trio~=0.17 in c:\\users\\admin\\anaconda3\\lib\\site-packages (from selenium) (0.21.0)\n",
      "Requirement already satisfied: certifi>=2021.10.8 in c:\\users\\admin\\anaconda3\\lib\\site-packages (from selenium) (2021.10.8)\n",
      "Requirement already satisfied: urllib3[socks]~=1.26 in c:\\users\\admin\\anaconda3\\lib\\site-packages (from selenium) (1.26.9)\n",
      "Requirement already satisfied: sortedcontainers in c:\\users\\admin\\anaconda3\\lib\\site-packages (from trio~=0.17->selenium) (2.4.0)\n",
      "Requirement already satisfied: cffi>=1.14 in c:\\users\\admin\\anaconda3\\lib\\site-packages (from trio~=0.17->selenium) (1.15.0)\n",
      "Requirement already satisfied: async-generator>=1.9 in c:\\users\\admin\\anaconda3\\lib\\site-packages (from trio~=0.17->selenium) (1.10)\n",
      "Requirement already satisfied: idna in c:\\users\\admin\\anaconda3\\lib\\site-packages (from trio~=0.17->selenium) (3.3)\n",
      "Requirement already satisfied: outcome in c:\\users\\admin\\anaconda3\\lib\\site-packages (from trio~=0.17->selenium) (1.2.0)\n",
      "Requirement already satisfied: attrs>=19.2.0 in c:\\users\\admin\\anaconda3\\lib\\site-packages (from trio~=0.17->selenium) (21.4.0)\n",
      "Requirement already satisfied: sniffio in c:\\users\\admin\\anaconda3\\lib\\site-packages (from trio~=0.17->selenium) (1.2.0)\n",
      "Requirement already satisfied: pycparser in c:\\users\\admin\\anaconda3\\lib\\site-packages (from cffi>=1.14->trio~=0.17->selenium) (2.21)\n",
      "Requirement already satisfied: wsproto>=0.14 in c:\\users\\admin\\anaconda3\\lib\\site-packages (from trio-websocket~=0.9->selenium) (1.2.0)\n",
      "Requirement already satisfied: PySocks!=1.5.7,<2.0,>=1.5.6 in c:\\users\\admin\\anaconda3\\lib\\site-packages (from urllib3[socks]~=1.26->selenium) (1.7.1)\n",
      "Requirement already satisfied: h11<1,>=0.9.0 in c:\\users\\admin\\anaconda3\\lib\\site-packages (from wsproto>=0.14->trio-websocket~=0.9->selenium) (0.13.0)\n",
      "Note: you may need to restart the kernel to use updated packages.\n"
     ]
    }
   ],
   "source": [
    "pip install selenium"
   ]
  },
  {
   "cell_type": "code",
   "execution_count": 23,
   "id": "5813c4f0",
   "metadata": {},
   "outputs": [
    {
     "name": "stderr",
     "output_type": "stream",
     "text": [
      "C:\\Users\\Admin\\AppData\\Local\\Temp\\ipykernel_8788\\283521940.py:45: DeprecationWarning: executable_path has been deprecated, please pass in a Service object\n",
      "  driver = webdriver.Chrome('C:\\Program Files\\chromedriver.exe')\n"
     ]
    }
   ],
   "source": [
    "from selenium.webdriver.common.by import By\n",
    "from selenium import webdriver\n",
    "from selenium.webdriver.common.keys import Keys\n",
    "from bs4 import BeautifulSoup\n",
    "from bs4.element import Tag\n",
    "from time import sleep\n",
    "import csv\n",
    "from parsel import Selector\n",
    "import parameters\n",
    "import numpy\n",
    "\n",
    "# Function call extracting title and linkedin profile iteratively\n",
    "def find_profiles():\n",
    "    for r in result_div:\n",
    "        # Checks if each element is present, else, raise exception\n",
    "        try:\n",
    "            link = r.find('a', href=True)\n",
    "            \n",
    "        \n",
    "    \n",
    "            # Check to make sure everything is present before appending\n",
    "            if link != '':\n",
    "                links.append(link['href'])\n",
    "                \n",
    "            \n",
    "    \n",
    "        # Next loop if one element is not present\n",
    "        except Exception as e:\n",
    "            print(e)\n",
    "            continue\n",
    "        \n",
    "# This function iteratively clicks on the \"Next\" button at the bottom right of the search page. \n",
    "def profiles_loop():\n",
    "    \n",
    "    find_profiles()\n",
    "    \n",
    "    next_button = driver.find_element(By.XPATH,'//*[@id=\"pnnext\"]') \n",
    "    next_button.click()\n",
    "    \n",
    "    \n",
    "def repeat_fun(times, f):\n",
    "    for i in range(times): f()\n",
    "    \n",
    "# specifies the path to the chromedriver.exe\n",
    "driver = webdriver.Chrome('C:\\Program Files\\chromedriver.exe')\n",
    "\n",
    "\n",
    "# driver.get method() will navigate to a page given by the URL address\n",
    "driver.get('https://www.linkedin.com')\n",
    "\n",
    "# locate email form by_class_name\n",
    "username = driver.find_element(By.XPATH, '//*[@id=\"session_key\"]')\n",
    "username.send_keys('usrname@gmail.com')\n",
    "sleep(0.5)\n",
    "\n",
    "# locate password form by_class_name\n",
    "password = driver.find_element(By.XPATH, '//*[@id=\"session_password\"]')\n",
    "\n",
    "# send_keys() to simulate key strokes\n",
    "password.send_keys('password@1')\n",
    "sleep(0.5)\n",
    "\n",
    "# locate submit button by_class_name\n",
    "log_in_button = driver.find_element(By.XPATH, '//*[@id=\"main-content\"]/section[1]/div/div/form/button')\n",
    "\n",
    "# .click() to mimic button click\n",
    "log_in_button.click()\n",
    "sleep(0.5)\n",
    "\n",
    "\n",
    "# driver.get method() will navigate to a page given by the URL address\n",
    "driver.get('https://www.google.com')\n",
    "sleep(3)\n",
    "\n",
    "# locate search form by_name\n",
    "search_query = driver.find_element(By.XPATH,'/html/body/div[1]/div[3]/form/div[1]/div[1]/div[1]/div/div[2]/input')\n",
    "\n",
    "\n",
    "# send_keys() to simulate the search text key strokes\n",
    "search_query.send_keys('site:linkedin.com/in/ AND \"professional\" AND \"United Kingdom\"')\n",
    "\n",
    "# .send_keys() to simulate the return key \n",
    "search_query.send_keys(Keys.RETURN)\n",
    "\n",
    "\n",
    "\n",
    "soup = BeautifulSoup(driver.page_source,'lxml')\n",
    "result_div = soup.find_all('div', attrs={'class': 'g'})\n",
    "    \n",
    "# initialize empty lists\n",
    "links = []\n",
    "\n",
    "\n",
    "# Function call x10 of function profiles_loop; you can change the number to as many pages of search as you like. \n",
    "repeat_fun(10, profiles_loop)\n"
   ]
  },
  {
   "cell_type": "code",
   "execution_count": 24,
   "id": "b2d5a9da",
   "metadata": {},
   "outputs": [],
   "source": [
    "import csv\n",
    "import pandas as pd\n",
    "df = pd.DataFrame(links)\n",
    "df.to_csv('title.csv', index=False)"
   ]
  }
 ],
 "metadata": {
  "kernelspec": {
   "display_name": "Python 3 (ipykernel)",
   "language": "python",
   "name": "python3"
  },
  "language_info": {
   "codemirror_mode": {
    "name": "ipython",
    "version": 3
   },
   "file_extension": ".py",
   "mimetype": "text/x-python",
   "name": "python",
   "nbconvert_exporter": "python",
   "pygments_lexer": "ipython3",
   "version": "3.9.12"
  }
 },
 "nbformat": 4,
 "nbformat_minor": 5
}
